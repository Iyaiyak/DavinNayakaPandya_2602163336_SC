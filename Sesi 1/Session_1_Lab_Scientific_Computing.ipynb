{
  "nbformat": 4,
  "nbformat_minor": 0,
  "metadata": {
    "colab": {
      "provenance": [],
      "authorship_tag": "ABX9TyOLuDKRCPhmspaR9sUHsOlW",
      "include_colab_link": true
    },
    "kernelspec": {
      "name": "python3",
      "display_name": "Python 3"
    },
    "language_info": {
      "name": "python"
    }
  },
  "cells": [
    {
      "cell_type": "markdown",
      "metadata": {
        "id": "view-in-github",
        "colab_type": "text"
      },
      "source": [
        "<a href=\"https://colab.research.google.com/github/Iyaiyak/DavinNayakaPandya_2602163336_SC/blob/main/Sesi%201/Session_1_Lab_Scientific_Computing.ipynb\" target=\"_parent\"><img src=\"https://colab.research.google.com/assets/colab-badge.svg\" alt=\"Open In Colab\"/></a>"
      ]
    },
    {
      "cell_type": "code",
      "execution_count": 1,
      "metadata": {
        "colab": {
          "base_uri": "https://localhost:8080/"
        },
        "id": "lRQaEFdDZYWM",
        "outputId": "004590a1-3eb6-4c0a-88b0-f07086aaa412"
      },
      "outputs": [
        {
          "output_type": "stream",
          "name": "stdout",
          "text": [
            "Wed Mar 15 03:52:55 2023\n"
          ]
        }
      ],
      "source": [
        "import time\n",
        "print(time.ctime())"
      ]
    },
    {
      "cell_type": "code",
      "source": [
        "import numpy as np"
      ],
      "metadata": {
        "id": "l2DWkGRHZdXz"
      },
      "execution_count": 2,
      "outputs": []
    },
    {
      "cell_type": "code",
      "source": [
        "x = np.array([1, 4, 3])\n",
        "x"
      ],
      "metadata": {
        "colab": {
          "base_uri": "https://localhost:8080/"
        },
        "id": "glZcR0z7Zf1z",
        "outputId": "1e746311-fb8b-446e-a9e2-e241884f3200"
      },
      "execution_count": 3,
      "outputs": [
        {
          "output_type": "execute_result",
          "data": {
            "text/plain": [
              "array([1, 4, 3])"
            ]
          },
          "metadata": {},
          "execution_count": 3
        }
      ]
    },
    {
      "cell_type": "code",
      "source": [
        "y = np.array([[1, 4, 3], [5, 3, 7]])\n",
        "y"
      ],
      "metadata": {
        "colab": {
          "base_uri": "https://localhost:8080/"
        },
        "id": "ixI38MtbZkQa",
        "outputId": "dfb50c71-ecb5-4418-8bd7-f2aa5df63de5"
      },
      "execution_count": 5,
      "outputs": [
        {
          "output_type": "execute_result",
          "data": {
            "text/plain": [
              "array([[1, 4, 3],\n",
              "       [5, 3, 7]])"
            ]
          },
          "metadata": {},
          "execution_count": 5
        }
      ]
    },
    {
      "cell_type": "code",
      "source": [
        "z = np.array([[[1,2,3], [4,5,6], [7,8,9]], [[2,3,4], [1,2,3], [6,7,8]]])\n",
        "z"
      ],
      "metadata": {
        "colab": {
          "base_uri": "https://localhost:8080/"
        },
        "id": "AQ9re0TOZpMS",
        "outputId": "3f9900e0-634a-4ed0-a814-7eca5959bb07"
      },
      "execution_count": 6,
      "outputs": [
        {
          "output_type": "execute_result",
          "data": {
            "text/plain": [
              "array([[[1, 2, 3],\n",
              "        [4, 5, 6],\n",
              "        [7, 8, 9]],\n",
              "\n",
              "       [[2, 3, 4],\n",
              "        [1, 2, 3],\n",
              "        [6, 7, 8]]])"
            ]
          },
          "metadata": {},
          "execution_count": 6
        }
      ]
    },
    {
      "cell_type": "code",
      "source": [
        "x = 3\n",
        "if 1<x<2:\n",
        "  y = 2\n",
        "if 2<x<4:\n",
        "  y = 4\n",
        "else:\n",
        "  y = 0\n",
        "print(y)"
      ],
      "metadata": {
        "colab": {
          "base_uri": "https://localhost:8080/"
        },
        "id": "QQp0OcvzaINk",
        "outputId": "4541cee4-5f68-4618-b261-2162d1d131b2"
      },
      "execution_count": 14,
      "outputs": [
        {
          "output_type": "stream",
          "name": "stdout",
          "text": [
            "4\n"
          ]
        }
      ]
    },
    {
      "cell_type": "code",
      "source": [
        "def my_adder(a, b, c):\n",
        "  \"\"\"\n",
        "  function to sum the 3 numbers\n",
        "  Input: 3 numbers a, b, c\n",
        "  Output: the sum of a, b, and c\n",
        "  author:\n",
        "  date:\n",
        "  \"\"\"\n",
        "  # this is the summation\n",
        "  out = a + b + c\n",
        "\n",
        "  return out"
      ],
      "metadata": {
        "id": "YUtxRUzMZrzC"
      },
      "execution_count": 7,
      "outputs": []
    },
    {
      "cell_type": "code",
      "source": [
        "my_adder(1,2,3)"
      ],
      "metadata": {
        "colab": {
          "base_uri": "https://localhost:8080/"
        },
        "id": "YtN2hODEZwpK",
        "outputId": "6d6140bb-5d7d-47f1-f47c-7a74085b26e7"
      },
      "execution_count": 8,
      "outputs": [
        {
          "output_type": "execute_result",
          "data": {
            "text/plain": [
              "6"
            ]
          },
          "metadata": {},
          "execution_count": 8
        }
      ]
    },
    {
      "cell_type": "code",
      "source": [
        "help(my_adder)"
      ],
      "metadata": {
        "colab": {
          "base_uri": "https://localhost:8080/"
        },
        "id": "vEQRufjnZ4XD",
        "outputId": "f64c88bf-15a9-42d1-b431-c6d27686cb45"
      },
      "execution_count": 9,
      "outputs": [
        {
          "output_type": "stream",
          "name": "stdout",
          "text": [
            "Help on function my_adder in module __main__:\n",
            "\n",
            "my_adder(a, b, c)\n",
            "    function to sum the 3 numbers\n",
            "    Input: 3 numbers a, b, c\n",
            "    Output: the sum of a, b, and c\n",
            "    author:\n",
            "    date:\n",
            "\n"
          ]
        }
      ]
    },
    {
      "cell_type": "code",
      "source": [
        "def my_thermo_stat(temp, desired_temp):\n",
        "  if temp < desired_temp - 5:\n",
        "    status = \"Heat\"\n",
        "  elif temp > desired_temp + 5:\n",
        "    status = \"AC\"\n",
        "  else:\n",
        "    status = \"off\"\n",
        "  return status"
      ],
      "metadata": {
        "id": "bxHZjX0JZ6Xr"
      },
      "execution_count": 10,
      "outputs": []
    },
    {
      "cell_type": "code",
      "source": [
        "status = my_thermo_stat(65,75)\n",
        "print(status)"
      ],
      "metadata": {
        "colab": {
          "base_uri": "https://localhost:8080/"
        },
        "id": "QsYQf0UNZ8Ab",
        "outputId": "7fe4a2aa-c8b6-4beb-d17e-afbe36ba0820"
      },
      "execution_count": 11,
      "outputs": [
        {
          "output_type": "stream",
          "name": "stdout",
          "text": [
            "Heat\n"
          ]
        }
      ]
    },
    {
      "cell_type": "code",
      "source": [
        "status = my_thermo_stat(75,65)\n",
        "print(status)"
      ],
      "metadata": {
        "colab": {
          "base_uri": "https://localhost:8080/"
        },
        "id": "1XaziWcgZ_z7",
        "outputId": "ebaa84bf-3915-4f31-c512-ee53f4105fa3"
      },
      "execution_count": 12,
      "outputs": [
        {
          "output_type": "stream",
          "name": "stdout",
          "text": [
            "AC\n"
          ]
        }
      ]
    },
    {
      "cell_type": "code",
      "source": [
        "status = my_thermo_stat(65,63)\n",
        "print(status)"
      ],
      "metadata": {
        "colab": {
          "base_uri": "https://localhost:8080/"
        },
        "id": "3RV6FAFZaEDr",
        "outputId": "e1b84118-af7f-4c53-e12c-409b876bcb99"
      },
      "execution_count": 13,
      "outputs": [
        {
          "output_type": "stream",
          "name": "stdout",
          "text": [
            "off\n"
          ]
        }
      ]
    }
  ]
}