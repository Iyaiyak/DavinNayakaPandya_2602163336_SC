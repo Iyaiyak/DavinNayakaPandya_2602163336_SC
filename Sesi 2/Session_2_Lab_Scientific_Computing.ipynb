{
  "nbformat": 4,
  "nbformat_minor": 0,
  "metadata": {
    "colab": {
      "provenance": [],
      "authorship_tag": "ABX9TyO7lPxW+I4Cw8Njf6IMqSxe",
      "include_colab_link": true
    },
    "kernelspec": {
      "name": "python3",
      "display_name": "Python 3"
    },
    "language_info": {
      "name": "python"
    }
  },
  "cells": [
    {
      "cell_type": "markdown",
      "metadata": {
        "id": "view-in-github",
        "colab_type": "text"
      },
      "source": [
        "<a href=\"https://colab.research.google.com/github/Iyaiyak/DavinNayakaPandya_2602163336_SC/blob/main/Sesi%202/Session_2_Lab_Scientific_Computing.ipynb\" target=\"_parent\"><img src=\"https://colab.research.google.com/assets/colab-badge.svg\" alt=\"Open In Colab\"/></a>"
      ]
    },
    {
      "cell_type": "code",
      "execution_count": null,
      "metadata": {
        "colab": {
          "base_uri": "https://localhost:8080/"
        },
        "id": "3a1i4AEbA4Qa",
        "outputId": "5f3dcb17-05ff-41c5-f046-33b2c7f2e0cc"
      },
      "outputs": [
        {
          "output_type": "stream",
          "name": "stdout",
          "text": [
            "[ 8  8 10]\n",
            "matrix is diagonally dominant\n"
          ]
        }
      ],
      "source": [
        "import numpy as np \n",
        "a = [[8,3,-3],[-2,-8,-5],[3,5,10]]\n",
        "\n",
        "diag = np.diag(np.abs(a))\n",
        "\n",
        "off_diag = np.sum(np.abs(a),axis=1)-diag \n",
        "\n",
        "print(diag)\n",
        "\n",
        "if np.all(diag > off_diag):\n",
        "  print('matrix is diagonally dominant')\n",
        "else:\n",
        "  print('NOT diagonally dominant')"
      ]
    },
    {
      "cell_type": "code",
      "source": [
        "x1 = 0\n",
        "x2 = 0\n",
        "x3 = 0\n",
        "epsilon = 0.01\n",
        "converged = False\n",
        "\n",
        "x_old = np.array([x1,x2,x3])"
      ],
      "metadata": {
        "id": "XPK3UlMODN_J"
      },
      "execution_count": null,
      "outputs": []
    },
    {
      "cell_type": "code",
      "source": [
        "print('Iteration result')\n",
        "print(' k,  x1,  x2,  x3')\n",
        "for k in range(1, 50):\n",
        "  x1=(14-3*x2+3*x3)/8\n",
        "  x2=(5+2*x1-5*x3)/(-8)\n",
        "  x3=(-8-3*x1-5*x2)/(10)\n",
        "  x=np.array([x1, x2, x3])\n",
        "  #check if it is smaller than threshold\n",
        "  dx = np.sqrt(np.dot(x-x_old,x-x_old))\n",
        "\n",
        "\n",
        "\n",
        "  print(\"%d, %.4f, %.4f, %.4f\"%(k, x1, x2, x3))\n",
        "  if dx < epsilon :\n",
        "      converged = True\n",
        "      print('Converged!')\n",
        "      break\n",
        "  \n",
        "  # assign the latest x value to the old value \n",
        "  x_old = x\n",
        "\n",
        "  if not converged:\n",
        "    print('Not converge,increase the # of iteration')\n",
        "\n"
      ],
      "metadata": {
        "colab": {
          "base_uri": "https://localhost:8080/"
        },
        "id": "t3-LeV_BEHJl",
        "outputId": "9a89a377-46f9-432d-fc11-a14f19d91ab3"
      },
      "execution_count": null,
      "outputs": [
        {
          "output_type": "stream",
          "name": "stdout",
          "text": [
            "Iteration result\n",
            " k,  x1,  x2,  x3\n",
            "1, 2.0888, -1.5534, -0.6499\n",
            "Converged!\n"
          ]
        }
      ]
    }
  ]
}