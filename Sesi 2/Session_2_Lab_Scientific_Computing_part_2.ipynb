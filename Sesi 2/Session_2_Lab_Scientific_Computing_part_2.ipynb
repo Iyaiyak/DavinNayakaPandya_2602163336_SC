{
  "nbformat": 4,
  "nbformat_minor": 0,
  "metadata": {
    "colab": {
      "provenance": [],
      "authorship_tag": "ABX9TyPEfP34iltk/57u6bq7Tsg9",
      "include_colab_link": true
    },
    "kernelspec": {
      "name": "python3",
      "display_name": "Python 3"
    },
    "language_info": {
      "name": "python"
    }
  },
  "cells": [
    {
      "cell_type": "markdown",
      "metadata": {
        "id": "view-in-github",
        "colab_type": "text"
      },
      "source": [
        "<a href=\"https://colab.research.google.com/github/Iyaiyak/DavinNayakaPandya_2602163336_SC/blob/main/Sesi%202/Session_2_Lab_Scientific_Computing_part_2.ipynb\" target=\"_parent\"><img src=\"https://colab.research.google.com/assets/colab-badge.svg\" alt=\"Open In Colab\"/></a>"
      ]
    },
    {
      "cell_type": "code",
      "execution_count": null,
      "metadata": {
        "colab": {
          "base_uri": "https://localhost:8080/"
        },
        "id": "EdN4ssDVKHT5",
        "outputId": "f24fcb50-c493-4370-a9eb-94395aa0d3a2"
      },
      "outputs": [
        {
          "output_type": "stream",
          "name": "stdout",
          "text": [
            "[ 2.20833333 -2.58333333 -0.18333333]\n"
          ]
        }
      ],
      "source": [
        "import numpy as np\n",
        "\n",
        "A = np.array([[4,3,-5],\n",
        "              [-2,-4,5],\n",
        "              [8,8,0]])\n",
        "y = np.array([2,5,-3])\n",
        "\n",
        "x = np.linalg.solve(A,y)\n",
        "print(x)"
      ]
    }
  ]
}