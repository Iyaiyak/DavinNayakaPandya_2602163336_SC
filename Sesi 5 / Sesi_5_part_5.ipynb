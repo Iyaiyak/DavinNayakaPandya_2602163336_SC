{
  "nbformat": 4,
  "nbformat_minor": 0,
  "metadata": {
    "colab": {
      "provenance": [],
      "authorship_tag": "ABX9TyPDFHy3FUFjkIylZ/0Zmv9t",
      "include_colab_link": true
    },
    "kernelspec": {
      "name": "python3",
      "display_name": "Python 3"
    },
    "language_info": {
      "name": "python"
    }
  },
  "cells": [
    {
      "cell_type": "markdown",
      "metadata": {
        "id": "view-in-github",
        "colab_type": "text"
      },
      "source": [
        "<a href=\"https://colab.research.google.com/github/Iyaiyak/DavinNayakaPandya_2602163336_SC/blob/main/Sesi%205%20/%20Sesi_5_part_5.ipynb\" target=\"_parent\"><img src=\"https://colab.research.google.com/assets/colab-badge.svg\" alt=\"Open In Colab\"/></a>"
      ]
    },
    {
      "cell_type": "code",
      "execution_count": null,
      "metadata": {
        "colab": {
          "base_uri": "https://localhost:8080/"
        },
        "id": "VNj7T8B423vU",
        "outputId": "fb27d941-c88d-44c0-c376-415bb7598073"
      },
      "outputs": [
        {
          "output_type": "stream",
          "name": "stdout",
          "text": [
            "2.0\n",
            "2.220446049250313e-14 0.0\n"
          ]
        }
      ],
      "source": [
        "import numpy as np\n",
        "from scipy.integrate import quad\n",
        "\n",
        "I_quad, est_err_quad = \\\n",
        "quad(np.sin, 0, np.pi)\n",
        "print(I_quad)\n",
        "err_quad = 2 - I_quad\n",
        "print(est_err_quad, err_quad)"
      ]
    },
    {
      "cell_type": "code",
      "source": [],
      "metadata": {
        "id": "r6yPa96Q4LlL"
      },
      "execution_count": null,
      "outputs": []
    }
  ]
}