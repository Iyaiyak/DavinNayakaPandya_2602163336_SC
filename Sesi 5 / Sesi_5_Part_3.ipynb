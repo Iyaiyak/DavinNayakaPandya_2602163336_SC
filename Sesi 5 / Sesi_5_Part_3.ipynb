{
  "nbformat": 4,
  "nbformat_minor": 0,
  "metadata": {
    "colab": {
      "provenance": [],
      "authorship_tag": "ABX9TyNvKkU57fdsOfUelV/kVwOW",
      "include_colab_link": true
    },
    "kernelspec": {
      "name": "python3",
      "display_name": "Python 3"
    },
    "language_info": {
      "name": "python"
    }
  },
  "cells": [
    {
      "cell_type": "markdown",
      "metadata": {
        "id": "view-in-github",
        "colab_type": "text"
      },
      "source": [
        "<a href=\"https://colab.research.google.com/github/Iyaiyak/DavinNayakaPandya_2602163336_SC/blob/main/Sesi%205%20/%20Sesi_5_Part_3.ipynb\" target=\"_parent\"><img src=\"https://colab.research.google.com/assets/colab-badge.svg\" alt=\"Open In Colab\"/></a>"
      ]
    },
    {
      "cell_type": "code",
      "execution_count": null,
      "metadata": {
        "colab": {
          "base_uri": "https://localhost:8080/"
        },
        "id": "z4YjddO0xW33",
        "outputId": "91818c78-86be-49cc-df44-1e18b2194425"
      },
      "outputs": [
        {
          "output_type": "stream",
          "name": "stdout",
          "text": [
            "1.9835235375094546\n",
            "1.9835235375094546\n"
          ]
        }
      ],
      "source": [
        "import numpy as np\n",
        "from scipy.integrate import trapz\n",
        "\n",
        "a = 0\n",
        "b = np.pi\n",
        "n = 11\n",
        "h = (b-a)/(n-1)\n",
        "x = np.linspace(a, b, n)\n",
        "f = np.sin(x)\n",
        "\n",
        "I_trapz = trapz(f,x)\n",
        "I_trapz = (h/2)*(f[0] + 2 * sum(f[1:n-1]) +f[n-1])\n",
        "\n",
        "print(I_trapz)\n",
        "print(I_trap)"
      ]
    }
  ]
}